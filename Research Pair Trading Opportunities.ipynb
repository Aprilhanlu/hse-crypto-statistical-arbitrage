{
 "cells": [
  {
   "cell_type": "markdown",
   "metadata": {},
   "source": [
    "In this notebook, we will research cryptocurrencies prices for cointegration.\n",
    "\n",
    "We have historical cryptocurrencies prices data parsed from Coinbase Pro exchange and sampled as minute bars."
   ]
  },
  {
   "cell_type": "code",
   "execution_count": 1,
   "metadata": {},
   "outputs": [],
   "source": [
    "%load_ext autoreload\n",
    "%autoreload 2\n",
    "\n",
    "from itertools import combinations\n",
    "\n",
    "import matplotlib.pyplot as plt\n",
    "import numpy as np\n",
    "import pandas as pd\n",
    "import pytz\n",
    "import statsmodels.api as sm\n",
    "from datetime import datetime\n",
    "from matplotlib import style\n",
    "from statsmodels.regression.linear_model import OLS\n",
    "from statsmodels.tsa.stattools import coint\n",
    "from statsmodels.tsa.vector_ar.vecm import coint_johansen\n",
    "from tqdm import tqdm_notebook\n",
    "from trading_calendars.always_open import AlwaysOpenCalendar\n",
    "\n",
    "import utils\n",
    "\n",
    "style.use(\"ggplot\")"
   ]
  },
  {
   "cell_type": "markdown",
   "metadata": {},
   "source": [
    "# Research Hyperparameters"
   ]
  },
  {
   "cell_type": "code",
   "execution_count": 2,
   "metadata": {},
   "outputs": [],
   "source": [
    "RESEARCH_START_DATE = pd.Timestamp(\"2018-01-01\")\n",
    "COINTEGRATION_RESEARCH_DATE = pd.Timestamp(\"2018-10-01\")"
   ]
  },
  {
   "cell_type": "markdown",
   "metadata": {},
   "source": [
    "# Utils"
   ]
  },
  {
   "cell_type": "code",
   "execution_count": 3,
   "metadata": {},
   "outputs": [],
   "source": [
    "def research_serieses_for_cointegration(data, det_order, k_ar_diff):\n",
    "    johansen_results = coint_johansen(data.values, det_order=det_order, k_ar_diff=k_ar_diff)\n",
    "    \n",
    "    print(\"Eigen values:\", johansen_results.eig)\n",
    "    print(\"Eigen vectors:\", johansen_results.evec)\n",
    "    print()\n",
    "    \n",
    "    print(\"Trace Test\")\n",
    "    print(\"Trace Statistics:\", johansen_results.lr1)\n",
    "    print(\"CV for Trace Statistics:\", johansen_results.cvt)\n",
    "    print()\n",
    "    \n",
    "    print(\"Eigen Test\")\n",
    "    print(\"Eigen Statistics:\", johansen_results.lr2)\n",
    "    print(\"CV for Eigen Statistics:\", johansen_results.cvm)"
   ]
  },
  {
   "cell_type": "markdown",
   "metadata": {},
   "source": [
    "# Research 1 USD invested series"
   ]
  },
  {
   "cell_type": "code",
   "execution_count": 3,
   "metadata": {},
   "outputs": [
    {
     "name": "stdout",
     "output_type": "stream",
     "text": [
      "['ETH-USD.csv', 'BTC-USD.csv', 'BCH-USD.csv', 'LTC-USD.csv']\n"
     ]
    },
    {
     "data": {
      "text/html": [
       "<div>\n",
       "<style scoped>\n",
       "    .dataframe tbody tr th:only-of-type {\n",
       "        vertical-align: middle;\n",
       "    }\n",
       "\n",
       "    .dataframe tbody tr th {\n",
       "        vertical-align: top;\n",
       "    }\n",
       "\n",
       "    .dataframe thead th {\n",
       "        text-align: right;\n",
       "    }\n",
       "</style>\n",
       "<table border=\"1\" class=\"dataframe\">\n",
       "  <thead>\n",
       "    <tr style=\"text-align: right;\">\n",
       "      <th></th>\n",
       "      <th>ETH-USD</th>\n",
       "      <th>BTC-USD</th>\n",
       "      <th>BCH-USD</th>\n",
       "      <th>LTC-USD</th>\n",
       "    </tr>\n",
       "    <tr>\n",
       "      <th>time</th>\n",
       "      <th></th>\n",
       "      <th></th>\n",
       "      <th></th>\n",
       "      <th></th>\n",
       "    </tr>\n",
       "  </thead>\n",
       "  <tbody>\n",
       "    <tr>\n",
       "      <th>2017-12-20 01:20:00</th>\n",
       "      <td>765.000000</td>\n",
       "      <td>16549.900000</td>\n",
       "      <td>3100.000000</td>\n",
       "      <td>320.140000</td>\n",
       "    </tr>\n",
       "    <tr>\n",
       "      <th>2017-12-20 01:21:00</th>\n",
       "      <td>765.970000</td>\n",
       "      <td>16504.950000</td>\n",
       "      <td>5300.000000</td>\n",
       "      <td>320.150000</td>\n",
       "    </tr>\n",
       "    <tr>\n",
       "      <th>2017-12-20 01:22:00</th>\n",
       "      <td>755.020000</td>\n",
       "      <td>16330.010000</td>\n",
       "      <td>4800.000000</td>\n",
       "      <td>311.960000</td>\n",
       "    </tr>\n",
       "    <tr>\n",
       "      <th>2017-12-20 01:23:00</th>\n",
       "      <td>755.071822</td>\n",
       "      <td>16330.592927</td>\n",
       "      <td>4799.555722</td>\n",
       "      <td>311.969669</td>\n",
       "    </tr>\n",
       "    <tr>\n",
       "      <th>2017-12-20 01:24:00</th>\n",
       "      <td>755.123645</td>\n",
       "      <td>16331.175855</td>\n",
       "      <td>4799.111445</td>\n",
       "      <td>311.979339</td>\n",
       "    </tr>\n",
       "  </tbody>\n",
       "</table>\n",
       "</div>"
      ],
      "text/plain": [
       "                        ETH-USD       BTC-USD      BCH-USD     LTC-USD\n",
       "time                                                                  \n",
       "2017-12-20 01:20:00  765.000000  16549.900000  3100.000000  320.140000\n",
       "2017-12-20 01:21:00  765.970000  16504.950000  5300.000000  320.150000\n",
       "2017-12-20 01:22:00  755.020000  16330.010000  4800.000000  311.960000\n",
       "2017-12-20 01:23:00  755.071822  16330.592927  4799.555722  311.969669\n",
       "2017-12-20 01:24:00  755.123645  16331.175855  4799.111445  311.979339"
      ]
     },
     "execution_count": 3,
     "metadata": {},
     "output_type": "execute_result"
    }
   ],
   "source": [
    "data = utils.combine_market_data(\"candles/\", \"USD\", \"open\", True,\n",
    "                                 file_names_to_exclude=[\"ZRX-USD.csv\", \"ETC-USD.csv\",])\n",
    "data.interpolate(inplace=True, method=\"linear\")\n",
    "data.head()"
   ]
  },
  {
   "cell_type": "code",
   "execution_count": 5,
   "metadata": {},
   "outputs": [
    {
     "data": {
      "text/html": [
       "<div>\n",
       "<style scoped>\n",
       "    .dataframe tbody tr th:only-of-type {\n",
       "        vertical-align: middle;\n",
       "    }\n",
       "\n",
       "    .dataframe tbody tr th {\n",
       "        vertical-align: top;\n",
       "    }\n",
       "\n",
       "    .dataframe thead th {\n",
       "        text-align: right;\n",
       "    }\n",
       "</style>\n",
       "<table border=\"1\" class=\"dataframe\">\n",
       "  <thead>\n",
       "    <tr style=\"text-align: right;\">\n",
       "      <th></th>\n",
       "      <th>ETH-USD</th>\n",
       "      <th>BTC-USD</th>\n",
       "      <th>BCH-USD</th>\n",
       "      <th>LTC-USD</th>\n",
       "    </tr>\n",
       "    <tr>\n",
       "      <th>time</th>\n",
       "      <th></th>\n",
       "      <th></th>\n",
       "      <th></th>\n",
       "      <th></th>\n",
       "    </tr>\n",
       "  </thead>\n",
       "  <tbody>\n",
       "    <tr>\n",
       "      <th>2018-01-01 00:00:00</th>\n",
       "      <td>1.000000</td>\n",
       "      <td>1.000000</td>\n",
       "      <td>1.000000</td>\n",
       "      <td>1.000000</td>\n",
       "    </tr>\n",
       "    <tr>\n",
       "      <th>2018-01-01 00:01:00</th>\n",
       "      <td>0.996978</td>\n",
       "      <td>1.000470</td>\n",
       "      <td>0.999341</td>\n",
       "      <td>1.002597</td>\n",
       "    </tr>\n",
       "    <tr>\n",
       "      <th>2018-01-01 00:02:00</th>\n",
       "      <td>0.998327</td>\n",
       "      <td>1.001197</td>\n",
       "      <td>0.999096</td>\n",
       "      <td>1.000880</td>\n",
       "    </tr>\n",
       "    <tr>\n",
       "      <th>2018-01-01 00:03:00</th>\n",
       "      <td>0.996803</td>\n",
       "      <td>0.999197</td>\n",
       "      <td>0.997085</td>\n",
       "      <td>0.998503</td>\n",
       "    </tr>\n",
       "    <tr>\n",
       "      <th>2018-01-01 00:04:00</th>\n",
       "      <td>0.997221</td>\n",
       "      <td>0.997061</td>\n",
       "      <td>0.999062</td>\n",
       "      <td>0.997139</td>\n",
       "    </tr>\n",
       "  </tbody>\n",
       "</table>\n",
       "</div>"
      ],
      "text/plain": [
       "                      ETH-USD   BTC-USD   BCH-USD   LTC-USD\n",
       "time                                                       \n",
       "2018-01-01 00:00:00  1.000000  1.000000  1.000000  1.000000\n",
       "2018-01-01 00:01:00  0.996978  1.000470  0.999341  1.002597\n",
       "2018-01-01 00:02:00  0.998327  1.001197  0.999096  1.000880\n",
       "2018-01-01 00:03:00  0.996803  0.999197  0.997085  0.998503\n",
       "2018-01-01 00:04:00  0.997221  0.997061  0.999062  0.997139"
      ]
     },
     "execution_count": 5,
     "metadata": {},
     "output_type": "execute_result"
    }
   ],
   "source": [
    "data = data.loc[RESEARCH_START_DATE:COINTEGRATION_RESEARCH_DATE]\n",
    "row1 = data.iloc[0, :]\n",
    "usd_invested = data.pct_change()\n",
    "usd_invested.iloc[0, :] = 0\n",
    "usd_invested += 1\n",
    "usd_invested = usd_invested.cumprod(axis=0)\n",
    "usd_invested.head()"
   ]
  },
  {
   "cell_type": "code",
   "execution_count": 108,
   "metadata": {},
   "outputs": [],
   "source": [
    "usd_invested.drop([\"BCH-USD\"], axis=1, inplace=True)"
   ]
  },
  {
   "cell_type": "code",
   "execution_count": 109,
   "metadata": {},
   "outputs": [
    {
     "data": {
      "text/plain": [
       "<matplotlib.axes._subplots.AxesSubplot at 0x193abd7b8>"
      ]
     },
     "execution_count": 109,
     "metadata": {},
     "output_type": "execute_result"
    },
    {
     "data": {
      "image/png": "[encoded data removed]",
      "text/plain": [
       "<Figure size 432x288 with 1 Axes>"
      ]
     },
     "metadata": {
      "needs_background": "light"
     },
     "output_type": "display_data"
    }
   ],
   "source": [
    "usd_invested.plot()"
   ]
  },
  {
   "cell_type": "markdown",
   "metadata": {},
   "source": [
    "## Johansen Test"
   ]
  },
  {
   "cell_type": "code",
   "execution_count": 110,
   "metadata": {},
   "outputs": [
    {
     "name": "stdout",
     "output_type": "stream",
     "text": [
      "Eigen values: [2.51640490e-05 1.73286337e-05 7.98584799e-06]\n",
      "Eigen vectors: [[ -0.8638838  -12.93015315  -2.8862034 ]\n",
      " [-12.20625719  14.24211074 -10.08026576]\n",
      " [  3.88018945  -0.60242764  11.98035049]]\n",
      "\n",
      "Trace Test\n",
      "Trace Statistics: [11.12148928  5.5773014   1.75944107]\n",
      "CV for Trace Statistics: [[27.0669 29.7961 35.4628]\n",
      " [13.4294 15.4943 19.9349]\n",
      " [ 2.7055  3.8415  6.6349]]\n",
      "\n",
      "Eigen Test\n",
      "Eigen Statistics: [5.54418788 3.81786033 1.75944107]\n",
      "CV for Eigen Statistics: [[18.8928 21.1314 25.865 ]\n",
      " [12.2971 14.2639 18.52  ]\n",
      " [ 2.7055  3.8415  6.6349]]\n"
     ]
    }
   ],
   "source": [
    "research_serieses_for_cointegration(usd_invested, 0, 1)"
   ]
  },
  {
   "cell_type": "markdown",
   "metadata": {},
   "source": [
    "## Engle-Granger 2 Step Test"
   ]
  },
  {
   "cell_type": "markdown",
   "metadata": {},
   "source": [
    "# Research min Coinbase Pro pieces prices"
   ]
  },
  {
   "cell_type": "markdown",
   "metadata": {},
   "source": [
    "## Johansen Test"
   ]
  },
  {
   "cell_type": "code",
   "execution_count": 4,
   "metadata": {},
   "outputs": [
    {
     "name": "stdout",
     "output_type": "stream",
     "text": [
      "['ETH-USD.csv', 'BTC-USD.csv', 'BCH-USD.csv', 'LTC-USD.csv']\n"
     ]
    }
   ],
   "source": [
    "BTC_MIN = 0.001\n",
    "BCH_MIN = 0.01\n",
    "ETH_MIN = 0.01\n",
    "LTC_MIN = 0.1\n",
    "data = utils.combine_market_data(\"candles/\", \"USD\", \"open\", True,\n",
    "                                 file_names_to_exclude=[\"ZRX-USD.csv\", \"ETC-USD.csv\",])\n",
    "data.interpolate(inplace=True, method=\"linear\")\n",
    "data = data.loc[RESEARCH_START_DATE:]\n",
    "data.head()\n",
    "\n",
    "data[\"ETH-USD\"] *= ETH_MIN\n",
    "data[\"BTC-USD\"] *= BTC_MIN\n",
    "data[\"BCH-USD\"] *= BCH_MIN\n",
    "data[\"LTC-USD\"] *= LTC_MIN\n",
    "\n",
    "data = data.apply(lambda x: round(x, 3))"
   ]
  },
  {
   "cell_type": "code",
   "execution_count": 5,
   "metadata": {},
   "outputs": [
    {
     "data": {
      "text/plain": [
       "<matplotlib.axes._subplots.AxesSubplot at 0x12b89c4e0>"
      ]
     },
     "execution_count": 5,
     "metadata": {},
     "output_type": "execute_result"
    },
    {
     "data": {
      "image/png": "[encoded data removed]",
      "text/plain": [
       "<Figure size 432x288 with 1 Axes>"
      ]
     },
     "metadata": {
      "needs_background": "light"
     },
     "output_type": "display_data"
    }
   ],
   "source": [
    "data.plot()"
   ]
  },
  {
   "cell_type": "code",
   "execution_count": 6,
   "metadata": {},
   "outputs": [
    {
     "data": {
      "text/plain": [
       "Index(['ETH-USD', 'BTC-USD', 'BCH-USD', 'LTC-USD'], dtype='object')"
      ]
     },
     "execution_count": 6,
     "metadata": {},
     "output_type": "execute_result"
    }
   ],
   "source": [
    "data.columns"
   ]
  },
  {
   "cell_type": "code",
   "execution_count": 9,
   "metadata": {},
   "outputs": [
    {
     "name": "stdout",
     "output_type": "stream",
     "text": [
      "Eigen values: [8.50455602e-05 4.38083892e-05 1.34539059e-05]\n",
      "Eigen vectors: [[ 0.24832115  1.14756794 -0.55175139]\n",
      " [ 0.35800371 -0.5626129   0.1170973 ]\n",
      " [-0.67676879  0.29344023  0.51935507]]\n",
      "\n",
      "Trace Test\n",
      "Trace Statistics: [55.94518708 22.51107995  5.2889678 ]\n",
      "CV for Trace Statistics: [[27.0669 29.7961 35.4628]\n",
      " [13.4294 15.4943 19.9349]\n",
      " [ 2.7055  3.8415  6.6349]]\n",
      "\n",
      "Eigen Test\n",
      "Eigen Statistics: [33.43410713 17.22211215  5.2889678 ]\n",
      "CV for Eigen Statistics: [[18.8928 21.1314 25.865 ]\n",
      " [12.2971 14.2639 18.52  ]\n",
      " [ 2.7055  3.8415  6.6349]]\n"
     ]
    }
   ],
   "source": [
    "research_serieses_for_cointegration(data[['BTC-USD', 'BCH-USD', 'ETH-USD']], 0, 5)"
   ]
  },
  {
   "cell_type": "markdown",
   "metadata": {},
   "source": [
    "## Engle-Granger 2 Step Test"
   ]
  },
  {
   "cell_type": "code",
   "execution_count": 6,
   "metadata": {},
   "outputs": [
    {
     "name": "stdout",
     "output_type": "stream",
     "text": [
      "--------------------------\n",
      "Pair ETH-USD and BTC-USD\n",
      "Test Statistic: -3.656024423810873\n",
      "P-Value: 0.020850585589441147\n",
      "Critical values: [-3.89646139 -3.33614193 -3.04445828]\n",
      "--------------------------\n",
      "Pair ETH-USD and BCH-USD\n",
      "Test Statistic: -5.333269990413249\n",
      "P-Value: 3.837042679998764e-05\n",
      "Critical values: [-3.89646139 -3.33614193 -3.04445828]\n",
      "--------------------------\n",
      "Pair ETH-USD and LTC-USD\n",
      "Test Statistic: -3.7435336786639932\n",
      "P-Value: 0.01609312636522419\n",
      "Critical values: [-3.89646139 -3.33614193 -3.04445828]\n",
      "--------------------------\n",
      "Pair BTC-USD and BCH-USD\n",
      "Test Statistic: -4.489113401051497\n",
      "P-Value: 0.001276101667182467\n",
      "Critical values: [-3.89646139 -3.33614193 -3.04445828]\n",
      "--------------------------\n",
      "Pair BTC-USD and LTC-USD\n",
      "Test Statistic: -3.3815658539436027\n",
      "P-Value: 0.04443959056044441\n",
      "Critical values: [-3.89646139 -3.33614193 -3.04445828]\n",
      "--------------------------\n",
      "Pair BCH-USD and LTC-USD\n",
      "Test Statistic: -3.766136133045843\n",
      "P-Value: 0.01503125508253541\n",
      "Critical values: [-3.89646139 -3.33614193 -3.04445828]\n"
     ]
    }
   ],
   "source": [
    "utils.check_serieses_pairs_for_cointegration(data)"
   ]
  },
  {
   "cell_type": "code",
   "execution_count": 7,
   "metadata": {},
   "outputs": [
    {
     "name": "stdout",
     "output_type": "stream",
     "text": [
      "Researching Pair BTC-USD and LTC-USD\n",
      "Prices OLS results:\n",
      "const: 3.7754517192034527 || LTC-USD 0.3577543246436745\n"
     ]
    },
    {
     "name": "stderr",
     "output_type": "stream",
     "text": [
      "/Users/nialeksandrov/virtualenvs/trading/lib/python3.6/site-packages/numpy/core/fromnumeric.py:2223: FutureWarning: Method .ptp is deprecated and will be removed in a future version. Use numpy.ptp instead.\n",
      "  return ptp(axis=axis, out=out, **kwargs)\n"
     ]
    },
    {
     "data": {
      "image/png": "[encoded data removed]",
      "text/plain": [
       "<Figure size 432x288 with 1 Axes>"
      ]
     },
     "metadata": {
      "needs_background": "light"
     },
     "output_type": "display_data"
    },
    {
     "name": "stdout",
     "output_type": "stream",
     "text": [
      "Diff of Cointegrating Series OLS Results:\n",
      "const: 0.00019511683697702236 || -5.322558274453572e-05\n",
      "Mean-Reverse Half-life: 13022.819945190842\n"
     ]
    }
   ],
   "source": [
    "utils.research_pair_trading_opportunity(data[\"BTC-USD\"], data[\"LTC-USD\"])"
   ]
  },
  {
   "cell_type": "code",
   "execution_count": 25,
   "metadata": {},
   "outputs": [],
   "source": [
    "coint_series = data[\"BTC-USD\"] - data[\"LTC-USD\"] * 0.3577543246436745\n",
    "win_sz = int(13022 * 0.01)\n",
    "coint_z_scores = (coint_series - coint_series.rolling(win_sz).mean()) / coint_series.rolling(win_sz).std()"
   ]
  },
  {
   "cell_type": "code",
   "execution_count": 26,
   "metadata": {},
   "outputs": [
    {
     "data": {
      "text/plain": [
       "<matplotlib.axes._subplots.AxesSubplot at 0x141fe0c50>"
      ]
     },
     "execution_count": 26,
     "metadata": {},
     "output_type": "execute_result"
    },
    {
     "data": {
      "image/png": "[encoded data removed]",
      "text/plain": [
       "<Figure size 432x288 with 1 Axes>"
      ]
     },
     "metadata": {
      "needs_background": "light"
     },
     "output_type": "display_data"
    }
   ],
   "source": [
    "coint_z_scores.hist(bins=100)"
   ]
  },
  {
   "cell_type": "code",
   "execution_count": 27,
   "metadata": {},
   "outputs": [
    {
     "name": "stdout",
     "output_type": "stream",
     "text": [
      "Researching Pair BCH-USD and LTC-USD\n",
      "Prices OLS results:\n",
      "const: 0.20744134209996173 || LTC-USD 0.7987238260461774\n"
     ]
    },
    {
     "data": {
      "image/png": "[encoded data removed]",
      "text/plain": [
       "<Figure size 432x288 with 1 Axes>"
      ]
     },
     "metadata": {
      "needs_background": "light"
     },
     "output_type": "display_data"
    },
    {
     "name": "stdout",
     "output_type": "stream",
     "text": [
      "Diff of Cointegrating Series OLS Results:\n",
      "const: 1.7575926502177914e-07 || -5.8225974899420604e-05\n",
      "Mean-Reverse Half-life: 11904.432373305657\n"
     ]
    }
   ],
   "source": [
    "utils.research_pair_trading_opportunity(data[\"BCH-USD\"], data[\"LTC-USD\"])"
   ]
  },
  {
   "cell_type": "markdown",
   "metadata": {},
   "source": [
    "## Research Log Prices For cointegration"
   ]
  },
  {
   "cell_type": "code",
   "execution_count": 65,
   "metadata": {},
   "outputs": [
    {
     "data": {
      "text/html": [
       "<div>\n",
       "<style scoped>\n",
       "    .dataframe tbody tr th:only-of-type {\n",
       "        vertical-align: middle;\n",
       "    }\n",
       "\n",
       "    .dataframe tbody tr th {\n",
       "        vertical-align: top;\n",
       "    }\n",
       "\n",
       "    .dataframe thead th {\n",
       "        text-align: right;\n",
       "    }\n",
       "</style>\n",
       "<table border=\"1\" class=\"dataframe\">\n",
       "  <thead>\n",
       "    <tr style=\"text-align: right;\">\n",
       "      <th></th>\n",
       "      <th>ETH-USD</th>\n",
       "      <th>BTC-USD</th>\n",
       "      <th>BCH-USD</th>\n",
       "      <th>LTC-USD</th>\n",
       "    </tr>\n",
       "    <tr>\n",
       "      <th>time</th>\n",
       "      <th></th>\n",
       "      <th></th>\n",
       "      <th></th>\n",
       "      <th></th>\n",
       "    </tr>\n",
       "  </thead>\n",
       "  <tbody>\n",
       "    <tr>\n",
       "      <th>2018-07-01 00:00:00</th>\n",
       "      <td>6.116554</td>\n",
       "      <td>8.761423</td>\n",
       "      <td>6.618071</td>\n",
       "      <td>4.394573</td>\n",
       "    </tr>\n",
       "    <tr>\n",
       "      <th>2018-07-01 00:01:00</th>\n",
       "      <td>6.117083</td>\n",
       "      <td>8.761632</td>\n",
       "      <td>6.617002</td>\n",
       "      <td>4.394573</td>\n",
       "    </tr>\n",
       "    <tr>\n",
       "      <th>2018-07-01 00:02:00</th>\n",
       "      <td>6.117083</td>\n",
       "      <td>8.763270</td>\n",
       "      <td>6.617176</td>\n",
       "      <td>4.395683</td>\n",
       "    </tr>\n",
       "    <tr>\n",
       "      <th>2018-07-01 00:03:00</th>\n",
       "      <td>6.116554</td>\n",
       "      <td>8.765356</td>\n",
       "      <td>6.621099</td>\n",
       "      <td>4.395683</td>\n",
       "    </tr>\n",
       "    <tr>\n",
       "      <th>2018-07-01 00:04:00</th>\n",
       "      <td>6.116223</td>\n",
       "      <td>8.764053</td>\n",
       "      <td>6.620087</td>\n",
       "      <td>4.395683</td>\n",
       "    </tr>\n",
       "  </tbody>\n",
       "</table>\n",
       "</div>"
      ],
      "text/plain": [
       "                      ETH-USD   BTC-USD   BCH-USD   LTC-USD\n",
       "time                                                       \n",
       "2018-07-01 00:00:00  6.116554  8.761423  6.618071  4.394573\n",
       "2018-07-01 00:01:00  6.117083  8.761632  6.617002  4.394573\n",
       "2018-07-01 00:02:00  6.117083  8.763270  6.617176  4.395683\n",
       "2018-07-01 00:03:00  6.116554  8.765356  6.621099  4.395683\n",
       "2018-07-01 00:04:00  6.116223  8.764053  6.620087  4.395683"
      ]
     },
     "execution_count": 65,
     "metadata": {},
     "output_type": "execute_result"
    }
   ],
   "source": [
    "data = utils.combine_market_data(\"candles/\", \"USD\", \"open\", True,\n",
    "                                 file_names_to_exclude=[\"ZRX-USD.csv\", \"ETC-USD.csv\",])\n",
    "data.interpolate(inplace=True, method=\"linear\")\n",
    "data = data.loc[RESEARCH_START_DATE:COINTEGRATION_RESEARCH_DATE]\n",
    "data = np.log(data)\n",
    "data.head()"
   ]
  },
  {
   "cell_type": "code",
   "execution_count": 66,
   "metadata": {},
   "outputs": [
    {
     "data": {
      "text/plain": [
       "<matplotlib.axes._subplots.AxesSubplot at 0x13255c630>"
      ]
     },
     "execution_count": 66,
     "metadata": {},
     "output_type": "execute_result"
    },
    {
     "data": {
      "image/png": "[encoded data removed]",
      "text/plain": [
       "<Figure size 432x288 with 1 Axes>"
      ]
     },
     "metadata": {},
     "output_type": "display_data"
    }
   ],
   "source": [
    "data.plot()"
   ]
  },
  {
   "cell_type": "code",
   "execution_count": 67,
   "metadata": {},
   "outputs": [
    {
     "name": "stdout",
     "output_type": "stream",
     "text": [
      "--------------------------\n",
      "Pair ETH-USD and BTC-USD\n",
      "Test Statistic: -1.9257148046760073\n",
      "P-Value: 0.566910006558058\n",
      "Critical values: [-3.89668536 -3.33626688 -3.04454501]\n",
      "--------------------------\n",
      "Pair ETH-USD and BCH-USD\n",
      "Test Statistic: -2.1231583764334974\n",
      "P-Value: 0.464269008262407\n",
      "Critical values: [-3.89668536 -3.33626688 -3.04454501]\n",
      "--------------------------\n",
      "Pair ETH-USD and LTC-USD\n",
      "Test Statistic: -3.741763617313734\n",
      "P-Value: 0.01617900355140371\n",
      "Critical values: [-3.89668536 -3.33626688 -3.04454501]\n",
      "--------------------------\n",
      "Pair BTC-USD and BCH-USD\n",
      "Test Statistic: -2.1206027471861013\n",
      "P-Value: 0.4656031626907127\n",
      "Critical values: [-3.89668536 -3.33626688 -3.04454501]\n",
      "--------------------------\n",
      "Pair BTC-USD and LTC-USD\n",
      "Test Statistic: -0.7006702564511743\n",
      "P-Value: 0.9465662527113525\n",
      "Critical values: [-3.89668536 -3.33626688 -3.04454501]\n",
      "--------------------------\n",
      "Pair BCH-USD and LTC-USD\n",
      "Test Statistic: -2.977721889465488\n",
      "P-Value: 0.11559641440267121\n",
      "Critical values: [-3.89668536 -3.33626688 -3.04454501]\n"
     ]
    }
   ],
   "source": [
    "utils.check_serieses_pairs_for_cointegration(data)"
   ]
  },
  {
   "cell_type": "markdown",
   "metadata": {},
   "source": [
    "# Engle-Granger 2 Step Test"
   ]
  },
  {
   "cell_type": "code",
   "execution_count": null,
   "metadata": {},
   "outputs": [],
   "source": [
    "ols_"
   ]
  },
  {
   "cell_type": "markdown",
   "metadata": {},
   "source": [
    "# Conclusion "
   ]
  },
  {
   "cell_type": "markdown",
   "metadata": {},
   "source": [
    "As we can see there are a lot of cointegrating sets of pairs, whose linear combination is stationary in a short term time frame (within several hours)."
   ]
  }
 ],
 "metadata": {
  "kernelspec": {
   "display_name": "trading",
   "language": "python",
   "name": "trading"
  },
  "language_info": {
   "codemirror_mode": {
    "name": "ipython",
    "version": 3
   },
   "file_extension": ".py",
   "mimetype": "text/x-python",
   "name": "python",
   "nbconvert_exporter": "python",
   "pygments_lexer": "ipython3",
   "version": "3.6.5"
  }
 },
 "nbformat": 4,
 "nbformat_minor": 2
}
