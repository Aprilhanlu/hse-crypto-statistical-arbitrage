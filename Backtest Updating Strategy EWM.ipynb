{
 "cells": [
  {
   "cell_type": "code",
   "execution_count": 1,
   "metadata": {},
   "outputs": [],
   "source": [
    "%load_ext autoreload\n",
    "%autoreload 2\n",
    "import math\n",
    "import pprint\n",
    "from datetime import datetime\n",
    "from itertools import combinations\n",
    "\n",
    "import matplotlib.pyplot as plt\n",
    "import numpy as np\n",
    "import pandas as pd\n",
    "import pytz\n",
    "import statsmodels.api as sm\n",
    "import zipline\n",
    "from matplotlib import style\n",
    "from statsmodels.regression.linear_model import OLS\n",
    "from statsmodels.tsa.stattools import coint\n",
    "from tqdm import tqdm_notebook\n",
    "from trading_calendars.always_open import AlwaysOpenCalendar\n",
    "\n",
    "import utils\n",
    "\n",
    "style.use(\"ggplot\")"
   ]
  },
  {
   "cell_type": "code",
   "execution_count": 2,
   "metadata": {},
   "outputs": [],
   "source": [
    "COINT_RESEARCH_DATE = pd.Timestamp(\"2018-08-01\")\n",
    "BTC_MIN = 0.001\n",
    "BCH_MIN = 0.01\n",
    "ETH_MIN = 0.01\n",
    "LTC_MIN = 0.1"
   ]
  },
  {
   "cell_type": "markdown",
   "metadata": {},
   "source": [
    "# Get Data"
   ]
  },
  {
   "cell_type": "code",
   "execution_count": 3,
   "metadata": {},
   "outputs": [
    {
     "name": "stdout",
     "output_type": "stream",
     "text": [
      "['ETH-USD.csv', 'BTC-USD.csv', 'LTC-USD.csv']\n"
     ]
    }
   ],
   "source": [
    "BTC_MIN = 0.001\n",
    "BCH_MIN = 0.01\n",
    "ETH_MIN = 0.01\n",
    "LTC_MIN = 0.1\n",
    "coint_research_data = utils.combine_market_data(\"candles/\", \"USD\", \"open\", True, \n",
    "                                                file_names_to_exclude=[\"ZRX-USD.csv\", \"ETC-USD.csv\", \"BCH-USD.csv\"])\n",
    "coint_research_data.interpolate(inplace=True, method=\"linear\")\n",
    "coint_research_data.head()\n",
    "\n",
    "coint_research_data[\"ETH-USD\"] *= ETH_MIN\n",
    "coint_research_data[\"BTC-USD\"] *= BTC_MIN\n",
    "#coint_research_data[\"BCH-USD\"] *= BCH_MIN\n",
    "coint_research_data[\"LTC-USD\"] *= LTC_MIN\n",
    "\n",
    "coint_research_data = coint_research_data.apply(lambda x: round(x, 3))"
   ]
  },
  {
   "cell_type": "code",
   "execution_count": 4,
   "metadata": {},
   "outputs": [
    {
     "data": {
      "text/plain": [
       "<matplotlib.axes._subplots.AxesSubplot at 0x12e540ba8>"
      ]
     },
     "execution_count": 4,
     "metadata": {},
     "output_type": "execute_result"
    },
    {
     "data": {
      "image/png": "[encoded data removed]",
      "text/plain": [
       "<Figure size 432x288 with 1 Axes>"
      ]
     },
     "metadata": {
      "needs_background": "light"
     },
     "output_type": "display_data"
    }
   ],
   "source": [
    "coint_research_data.plot()"
   ]
  },
  {
   "cell_type": "code",
   "execution_count": 5,
   "metadata": {},
   "outputs": [
    {
     "name": "stderr",
     "output_type": "stream",
     "text": [
      "/Users/nialeksandrov/virtualenvs/zipline_backtest/lib/python3.6/site-packages/ipykernel_launcher.py:3: DeprecationWarning: \n",
      "Panel is deprecated and will be removed in a future version.\n",
      "The recommended way to represent these types of 3-dimensional data are with a MultiIndex on a DataFrame, via the Panel.to_frame() method\n",
      "Alternatively, you can use the xarray package http://xarray.pydata.org/en/stable/.\n",
      "Pandas provides a `.to_xarray()` method to help automate this conversion.\n",
      "\n",
      "  This is separate from the ipykernel package so we can avoid doing imports until\n"
     ]
    }
   ],
   "source": [
    "pairs_min_weights = {'ETH-USD': ETH_MIN, 'BTC-USD': BTC_MIN, 'BCH-USD': BCH_MIN, 'LTC-USD': LTC_MIN}\n",
    "backtest_panel = utils.create_zipline_panel(\"candles/\", ('ETH-USD', 'BTC-USD', 'LTC-USD'), \n",
    "                                            pairs_min_weights)"
   ]
  },
  {
   "cell_type": "markdown",
   "metadata": {},
   "source": [
    "# Backtest"
   ]
  },
  {
   "cell_type": "code",
   "execution_count": 6,
   "metadata": {},
   "outputs": [
    {
     "data": {
      "text/plain": [
       "[('ETH-USD', 'BTC-USD'), ('ETH-USD', 'LTC-USD'), ('BTC-USD', 'LTC-USD')]"
      ]
     },
     "execution_count": 6,
     "metadata": {},
     "output_type": "execute_result"
    }
   ],
   "source": [
    "all_possible_pairs = list(combinations(['ETH-USD', 'BTC-USD', 'LTC-USD'], 2))\n",
    "all_possible_pairs"
   ]
  },
  {
   "cell_type": "code",
   "execution_count": 36,
   "metadata": {
    "scrolled": true
   },
   "outputs": [
    {
     "data": {
      "application/vnd.jupyter.widget-view+json": {
       "model_id": "101e53d3dc854f51b9aa6676de12899d",
       "version_major": 2,
       "version_minor": 0
      },
      "text/plain": [
       "HBox(children=(IntProgress(value=0, max=259), HTML(value='')))"
      ]
     },
     "metadata": {},
     "output_type": "display_data"
    },
    {
     "name": "stdout",
     "output_type": "stream",
     "text": [
      "2017-08-30 00:00:00+00:00 2018-03-01 00:00:00+00:00\n",
      "New pair for trading BTC-USD and LTC-USD. Half-life: 9617.7712220226\n",
      "p-value: 0.0006072779972701223 || window size: 28853\n",
      "Coint weights: [ 1.         -0.55072067]\n",
      "[0.31807894 0.0212934  0.00060728]\n"
     ]
    },
    {
     "name": "stderr",
     "output_type": "stream",
     "text": [
      "/Users/nialeksandrov/virtualenvs/zipline_backtest/lib/python3.6/site-packages/ipykernel_launcher.py:75: FutureWarning: pd.ewm_mean is deprecated for Series and will be removed in a future version, replace with \n",
      "\tSeries.ewm(span=28853,min_periods=0,adjust=True,ignore_na=False).mean()\n",
      "/Users/nialeksandrov/virtualenvs/zipline_backtest/lib/python3.6/site-packages/ipykernel_launcher.py:76: FutureWarning: pd.ewm_std is deprecated for Series and will be removed in a future version, replace with \n",
      "\tSeries.ewm(span=28853,min_periods=0,adjust=True,ignore_na=False).std(bias=False)\n"
     ]
    },
    {
     "name": "stdout",
     "output_type": "stream",
     "text": [
      "2018-03-01 00:59:00+00:00, 3\n",
      "2017-08-30 01:00:00+00:00 2018-03-01 01:00:00+00:00\n",
      "New pair for trading BTC-USD and LTC-USD. Half-life: 9630.197977142388\n",
      "p-value: 0.0006247209718474553 || window size: 28890\n",
      "Coint weights: [ 1.         -0.55068573]\n",
      "[0.31831644 0.02115355 0.00062472]\n"
     ]
    },
    {
     "name": "stderr",
     "output_type": "stream",
     "text": [
      "/Users/nialeksandrov/virtualenvs/zipline_backtest/lib/python3.6/site-packages/ipykernel_launcher.py:75: FutureWarning: pd.ewm_mean is deprecated for Series and will be removed in a future version, replace with \n",
      "\tSeries.ewm(span=28890,min_periods=0,adjust=True,ignore_na=False).mean()\n",
      "/Users/nialeksandrov/virtualenvs/zipline_backtest/lib/python3.6/site-packages/ipykernel_launcher.py:76: FutureWarning: pd.ewm_std is deprecated for Series and will be removed in a future version, replace with \n",
      "\tSeries.ewm(span=28890,min_periods=0,adjust=True,ignore_na=False).std(bias=False)\n"
     ]
    },
    {
     "name": "stdout",
     "output_type": "stream",
     "text": [
      "2018-03-02 00:59:00+00:00, 4\n"
     ]
    },
    {
     "name": "stderr",
     "output_type": "stream",
     "text": [
      "/Users/nialeksandrov/virtualenvs/zipline_backtest/lib/python3.6/site-packages/empyrical/stats.py:704: RuntimeWarning: invalid value encountered in true_divide\n",
      "  out=out,\n",
      "/Users/nialeksandrov/virtualenvs/zipline_backtest/lib/python3.6/site-packages/empyrical/stats.py:790: RuntimeWarning: invalid value encountered in true_divide\n",
      "  np.divide(average_annual_return, annualized_downside_risk, out=out)\n"
     ]
    },
    {
     "name": "stdout",
     "output_type": "stream",
     "text": [
      "2018-03-03 00:59:00+00:00, 5\n",
      "2018-03-04 00:59:00+00:00, 6\n",
      "2018-03-05 00:59:00+00:00, 0\n",
      "2018-03-06 00:59:00+00:00, 1\n",
      "2018-03-07 00:59:00+00:00, 2\n",
      "New allocation level 1\n",
      "Shorting\n"
     ]
    },
    {
     "name": "stderr",
     "output_type": "stream",
     "text": [
      "/Users/nialeksandrov/virtualenvs/zipline_backtest/lib/python3.6/site-packages/empyrical/stats.py:790: RuntimeWarning: divide by zero encountered in true_divide\n",
      "  np.divide(average_annual_return, annualized_downside_risk, out=out)\n"
     ]
    },
    {
     "name": "stdout",
     "output_type": "stream",
     "text": [
      "2018-03-08 00:59:00+00:00, 3\n",
      "2018-03-09 00:59:00+00:00, 4\n",
      "Closing Positions\n",
      "2018-03-10 00:59:00+00:00, 5\n",
      "2018-03-11 00:59:00+00:00, 6\n",
      "2018-03-12 00:59:00+00:00, 0\n",
      "2018-03-13 00:59:00+00:00, 1\n",
      "2018-03-14 00:59:00+00:00, 2\n",
      "2018-03-15 00:59:00+00:00, 3\n",
      "2018-03-16 00:59:00+00:00, 4\n",
      "2018-03-17 00:59:00+00:00, 5\n",
      "2018-03-18 00:59:00+00:00, 6\n",
      "2018-03-19 00:59:00+00:00, 0\n",
      "New allocation level 1\n",
      "Shorting\n",
      "2018-03-20 00:59:00+00:00, 1\n",
      "2018-03-21 00:59:00+00:00, 2\n",
      "Closing Positions\n",
      "2018-03-22 00:59:00+00:00, 3\n",
      "2018-03-23 00:59:00+00:00, 4\n",
      "2018-03-24 00:59:00+00:00, 5\n",
      "2018-03-25 00:59:00+00:00, 6\n",
      "2018-03-26 00:59:00+00:00, 0\n",
      "New allocation level 1\n",
      "Shorting\n",
      "2018-03-27 00:59:00+00:00, 1\n",
      "2018-03-28 00:59:00+00:00, 2\n",
      "2018-03-29 00:59:00+00:00, 3\n",
      "2018-03-30 00:59:00+00:00, 4\n",
      "2018-03-31 00:59:00+00:00, 5\n",
      "2018-04-01 00:59:00+00:00, 6\n",
      "2018-04-02 00:59:00+00:00, 0\n",
      "2018-04-03 00:59:00+00:00, 1\n",
      "Closing Positions\n",
      "2017-10-02 18:47:00+00:00 2018-04-03 18:47:00+00:00\n",
      "New pair for trading BTC-USD and LTC-USD. Half-life: 9985.02772087302\n",
      "p-value: 0.0004272899756510783 || window size: 29955\n",
      "Coint weights: [ 1.         -0.53803114]\n",
      "[0.20407139 0.01946937 0.00042729]\n"
     ]
    },
    {
     "name": "stderr",
     "output_type": "stream",
     "text": [
      "/Users/nialeksandrov/virtualenvs/zipline_backtest/lib/python3.6/site-packages/ipykernel_launcher.py:75: FutureWarning: pd.ewm_mean is deprecated for Series and will be removed in a future version, replace with \n",
      "\tSeries.ewm(span=29955,min_periods=0,adjust=True,ignore_na=False).mean()\n",
      "/Users/nialeksandrov/virtualenvs/zipline_backtest/lib/python3.6/site-packages/ipykernel_launcher.py:76: FutureWarning: pd.ewm_std is deprecated for Series and will be removed in a future version, replace with \n",
      "\tSeries.ewm(span=29955,min_periods=0,adjust=True,ignore_na=False).std(bias=False)\n"
     ]
    },
    {
     "name": "stdout",
     "output_type": "stream",
     "text": [
      "2018-04-04 00:59:00+00:00, 2\n",
      "2018-04-05 00:59:00+00:00, 3\n",
      "2018-04-06 00:59:00+00:00, 4\n",
      "2018-04-07 00:59:00+00:00, 5\n",
      "2018-04-08 00:59:00+00:00, 6\n",
      "2018-04-09 00:59:00+00:00, 0\n",
      "2018-04-10 00:59:00+00:00, 1\n",
      "2018-04-11 00:59:00+00:00, 2\n",
      "2018-04-12 00:59:00+00:00, 3\n",
      "New allocation level 1\n",
      "Shorting\n",
      "2018-04-13 00:59:00+00:00, 4\n",
      "2018-04-14 00:59:00+00:00, 5\n",
      "2018-04-15 00:59:00+00:00, 6\n",
      "2018-04-16 00:59:00+00:00, 0\n",
      "2018-04-17 00:59:00+00:00, 1\n",
      "Closing Positions\n",
      "2018-04-18 00:59:00+00:00, 2\n",
      "2018-04-19 00:59:00+00:00, 3\n",
      "2018-04-20 00:59:00+00:00, 4\n",
      "2018-04-21 00:59:00+00:00, 5\n",
      "2018-04-22 00:59:00+00:00, 6\n",
      "2018-04-23 00:59:00+00:00, 0\n",
      "2018-04-24 00:59:00+00:00, 1\n",
      "2018-04-25 00:59:00+00:00, 2\n",
      "New allocation level 1\n",
      "Shorting\n",
      "2018-04-26 00:59:00+00:00, 3\n",
      "2018-04-27 00:59:00+00:00, 4\n",
      "2018-04-28 00:59:00+00:00, 5\n",
      "2018-04-29 00:59:00+00:00, 6\n",
      "2018-04-30 00:59:00+00:00, 0\n",
      "2018-05-01 00:59:00+00:00, 1\n",
      "2018-05-02 00:59:00+00:00, 2\n",
      "2018-05-03 00:59:00+00:00, 3\n",
      "Closing Positions\n",
      "2017-11-01 13:57:00+00:00 2018-05-03 13:57:00+00:00\n",
      "New pair for trading BTC-USD and LTC-USD. Half-life: 9880.108581434371\n",
      "p-value: 0.00022593826654455508 || window size: 29640\n",
      "Coint weights: [ 1.         -0.53751332]\n",
      "[0.20345171 0.01390239 0.00022594]\n"
     ]
    },
    {
     "name": "stderr",
     "output_type": "stream",
     "text": [
      "/Users/nialeksandrov/virtualenvs/zipline_backtest/lib/python3.6/site-packages/ipykernel_launcher.py:75: FutureWarning: pd.ewm_mean is deprecated for Series and will be removed in a future version, replace with \n",
      "\tSeries.ewm(span=29640,min_periods=0,adjust=True,ignore_na=False).mean()\n",
      "/Users/nialeksandrov/virtualenvs/zipline_backtest/lib/python3.6/site-packages/ipykernel_launcher.py:76: FutureWarning: pd.ewm_std is deprecated for Series and will be removed in a future version, replace with \n",
      "\tSeries.ewm(span=29640,min_periods=0,adjust=True,ignore_na=False).std(bias=False)\n"
     ]
    },
    {
     "name": "stdout",
     "output_type": "stream",
     "text": [
      "2018-05-04 00:59:00+00:00, 4\n",
      "New allocation level 1\n",
      "Longing\n",
      "2018-05-05 00:59:00+00:00, 5\n",
      "2018-05-06 00:59:00+00:00, 6\n",
      "2018-05-07 00:59:00+00:00, 0\n",
      "2018-05-08 00:59:00+00:00, 1\n",
      "2018-05-09 00:59:00+00:00, 2\n",
      "Closing Positions\n",
      "2018-05-10 00:59:00+00:00, 3\n",
      "2018-05-11 00:59:00+00:00, 4\n",
      "New allocation level 1\n",
      "Shorting\n",
      "2018-05-12 00:59:00+00:00, 5\n",
      "Closing Positions\n",
      "2018-05-13 00:59:00+00:00, 6\n",
      "New allocation level 1\n",
      "Shorting\n",
      "Closing Positions\n",
      "2018-05-14 00:59:00+00:00, 0\n",
      "2018-05-15 00:59:00+00:00, 1\n",
      "2018-05-16 00:59:00+00:00, 2\n",
      "2018-05-17 00:59:00+00:00, 3\n",
      "2018-05-18 00:59:00+00:00, 4\n",
      "2018-05-19 00:59:00+00:00, 5\n",
      "2018-05-20 00:59:00+00:00, 6\n",
      "2018-05-21 00:59:00+00:00, 0\n",
      "New allocation level 1\n",
      "Shorting\n",
      "2018-05-22 00:59:00+00:00, 1\n",
      "2018-05-23 00:59:00+00:00, 2\n",
      "2018-05-24 00:59:00+00:00, 3\n",
      "Closing Positions\n",
      "2018-05-25 00:59:00+00:00, 4\n",
      "2018-05-26 00:59:00+00:00, 5\n",
      "2018-05-27 00:59:00+00:00, 6\n",
      "2018-05-28 00:59:00+00:00, 0\n",
      "New allocation level 1\n",
      "Shorting\n",
      "2018-05-29 00:59:00+00:00, 1\n",
      "Closing Positions\n",
      "2018-05-30 00:59:00+00:00, 2\n",
      "New allocation level 1\n",
      "Shorting\n",
      "2018-05-31 00:59:00+00:00, 3\n",
      "2018-06-01 00:59:00+00:00, 4\n",
      "2018-06-02 00:59:00+00:00, 5\n",
      "Closing Positions\n",
      "2017-12-01 08:49:00+00:00 2018-06-02 08:49:00+00:00\n",
      "New pair for trading BTC-USD and LTC-USD. Half-life: 9779.551761475863\n",
      "p-value: 0.00012394114991150348 || window size: 29338\n",
      "Coint weights: [ 1.         -0.53712542]\n",
      "[1.5915156e-01 9.1399552e-03 1.2394115e-04]\n"
     ]
    },
    {
     "name": "stderr",
     "output_type": "stream",
     "text": [
      "/Users/nialeksandrov/virtualenvs/zipline_backtest/lib/python3.6/site-packages/ipykernel_launcher.py:75: FutureWarning: pd.ewm_mean is deprecated for Series and will be removed in a future version, replace with \n",
      "\tSeries.ewm(span=29338,min_periods=0,adjust=True,ignore_na=False).mean()\n",
      "/Users/nialeksandrov/virtualenvs/zipline_backtest/lib/python3.6/site-packages/ipykernel_launcher.py:76: FutureWarning: pd.ewm_std is deprecated for Series and will be removed in a future version, replace with \n",
      "\tSeries.ewm(span=29338,min_periods=0,adjust=True,ignore_na=False).std(bias=False)\n"
     ]
    },
    {
     "name": "stdout",
     "output_type": "stream",
     "text": [
      "2018-06-03 00:59:00+00:00, 6\n",
      "New allocation level 1\n",
      "Longing\n",
      "Closing Positions\n",
      "2018-06-04 00:59:00+00:00, 0\n",
      "2018-06-05 00:59:00+00:00, 1\n",
      "New allocation level 1\n",
      "Shorting\n",
      "2018-06-06 00:59:00+00:00, 2\n",
      "2018-06-07 00:59:00+00:00, 3\n",
      "2018-06-08 00:59:00+00:00, 4\n",
      "2018-06-09 00:59:00+00:00, 5\n",
      "2018-06-10 00:59:00+00:00, 6\n",
      "Closing Positions\n",
      "New allocation level 1\n",
      "Longing\n",
      "Closing Positions\n",
      "2018-06-11 00:59:00+00:00, 0\n",
      "New allocation level 1\n",
      "Longing\n",
      "Closing Positions\n",
      "2018-06-12 00:59:00+00:00, 1\n",
      "New allocation level 1\n",
      "Shorting\n",
      "2018-06-13 00:59:00+00:00, 2\n",
      "2018-06-14 00:59:00+00:00, 3\n",
      "2018-06-15 00:59:00+00:00, 4\n",
      "2018-06-16 00:59:00+00:00, 5\n",
      "2018-06-17 00:59:00+00:00, 6\n",
      "2018-06-18 00:59:00+00:00, 0\n",
      "2018-06-19 00:59:00+00:00, 1\n",
      "2018-06-20 00:59:00+00:00, 2\n",
      "2018-06-21 00:59:00+00:00, 3\n",
      "2018-06-22 00:59:00+00:00, 4\n",
      "2018-06-23 00:59:00+00:00, 5\n",
      "2018-06-24 00:59:00+00:00, 6\n",
      "2018-06-25 00:59:00+00:00, 0\n",
      "2018-06-26 00:59:00+00:00, 1\n",
      "2018-06-27 00:59:00+00:00, 2\n",
      "2018-06-28 00:59:00+00:00, 3\n",
      "2018-06-29 00:59:00+00:00, 4\n",
      "2018-06-30 00:59:00+00:00, 5\n",
      "2018-07-01 00:59:00+00:00, 6\n",
      "2018-07-02 00:59:00+00:00, 0\n",
      "2018-07-03 00:59:00+00:00, 1\n",
      "2018-07-04 00:59:00+00:00, 2\n",
      "2018-07-05 00:59:00+00:00, 3\n",
      "2018-07-06 00:59:00+00:00, 4\n",
      "2018-07-07 00:59:00+00:00, 5\n",
      "2018-07-08 00:59:00+00:00, 6\n",
      "2018-07-09 00:59:00+00:00, 0\n",
      "2018-07-10 00:59:00+00:00, 1\n",
      "2018-07-11 00:59:00+00:00, 2\n",
      "2018-07-12 00:59:00+00:00, 3\n",
      "2018-07-13 00:59:00+00:00, 4\n",
      "2018-07-14 00:59:00+00:00, 5\n",
      "2018-07-15 00:59:00+00:00, 6\n",
      "2018-07-16 00:59:00+00:00, 0\n",
      "2018-07-17 00:59:00+00:00, 1\n",
      "2018-07-18 00:59:00+00:00, 2\n",
      "2018-07-19 00:59:00+00:00, 3\n",
      "2018-07-20 00:59:00+00:00, 4\n",
      "2018-07-21 00:59:00+00:00, 5\n",
      "2018-07-22 00:59:00+00:00, 6\n",
      "2018-07-23 00:59:00+00:00, 0\n",
      "2018-07-24 00:59:00+00:00, 1\n",
      "2018-07-25 00:59:00+00:00, 2\n",
      "2018-07-26 00:59:00+00:00, 3\n",
      "2018-07-27 00:59:00+00:00, 4\n",
      "2018-07-28 00:59:00+00:00, 5\n",
      "2018-07-29 00:59:00+00:00, 6\n",
      "2018-07-30 00:59:00+00:00, 0\n",
      "2018-07-31 00:59:00+00:00, 1\n",
      "2018-08-01 00:59:00+00:00, 2\n",
      "2018-08-02 00:59:00+00:00, 3\n",
      "2018-08-03 00:59:00+00:00, 4\n",
      "2018-08-04 00:59:00+00:00, 5\n",
      "Closing Positions\n",
      "2018-02-02 12:53:00+00:00 2018-08-04 12:53:00+00:00\n",
      "New pair for trading BTC-USD and LTC-USD. Half-life: 10939.895200661855\n",
      "p-value: 0.00021057037047264175 || window size: 32819\n",
      "Coint weights: [ 1.         -0.53966125]\n",
      "[0.11622318 0.00598242 0.00021057]\n"
     ]
    },
    {
     "name": "stderr",
     "output_type": "stream",
     "text": [
      "/Users/nialeksandrov/virtualenvs/zipline_backtest/lib/python3.6/site-packages/ipykernel_launcher.py:75: FutureWarning: pd.ewm_mean is deprecated for Series and will be removed in a future version, replace with \n",
      "\tSeries.ewm(span=32819,min_periods=0,adjust=True,ignore_na=False).mean()\n",
      "/Users/nialeksandrov/virtualenvs/zipline_backtest/lib/python3.6/site-packages/ipykernel_launcher.py:76: FutureWarning: pd.ewm_std is deprecated for Series and will be removed in a future version, replace with \n",
      "\tSeries.ewm(span=32819,min_periods=0,adjust=True,ignore_na=False).std(bias=False)\n"
     ]
    },
    {
     "name": "stdout",
     "output_type": "stream",
     "text": [
      "2018-08-05 00:59:00+00:00, 6\n",
      "2018-08-06 00:59:00+00:00, 0\n",
      "2018-08-07 00:59:00+00:00, 1\n",
      "2018-08-08 00:59:00+00:00, 2\n",
      "2018-08-09 00:59:00+00:00, 3\n",
      "2018-08-10 00:59:00+00:00, 4\n",
      "2018-08-11 00:59:00+00:00, 5\n",
      "2018-08-12 00:59:00+00:00, 6\n",
      "2018-08-13 00:59:00+00:00, 0\n",
      "2018-08-14 00:59:00+00:00, 1\n",
      "2018-08-15 00:59:00+00:00, 2\n",
      "2018-08-16 00:59:00+00:00, 3\n",
      "2018-08-17 00:59:00+00:00, 4\n",
      "2018-08-18 00:59:00+00:00, 5\n",
      "2018-08-19 00:59:00+00:00, 6\n",
      "2018-08-20 00:59:00+00:00, 0\n",
      "2018-08-21 00:59:00+00:00, 1\n",
      "2018-08-22 00:59:00+00:00, 2\n",
      "New allocation level 1\n",
      "Shorting\n",
      "2018-08-23 00:59:00+00:00, 3\n",
      "2018-08-24 00:59:00+00:00, 4\n",
      "2018-08-25 00:59:00+00:00, 5\n",
      "2018-08-26 00:59:00+00:00, 6\n",
      "2018-08-27 00:59:00+00:00, 0\n",
      "2018-08-28 00:59:00+00:00, 1\n",
      "2018-08-29 00:59:00+00:00, 2\n",
      "2018-08-30 00:59:00+00:00, 3\n",
      "2018-08-31 00:59:00+00:00, 4\n",
      "2018-09-01 00:59:00+00:00, 5\n",
      "2018-09-02 00:59:00+00:00, 6\n",
      "2018-09-03 00:59:00+00:00, 0\n",
      "2018-09-04 00:59:00+00:00, 1\n",
      "2018-09-05 00:59:00+00:00, 2\n",
      "Closing Positions\n",
      "2018-03-07 00:19:00+00:00 2018-09-06 00:19:00+00:00\n",
      "New pair for trading BTC-USD and LTC-USD. Half-life: 12529.382012765704\n",
      "p-value: 0.0005431472792349425 || window size: 37588\n",
      "Coint weights: [ 1.         -0.53803501]\n",
      "[0.16667702 0.00425123 0.00054315]\n"
     ]
    },
    {
     "name": "stderr",
     "output_type": "stream",
     "text": [
      "/Users/nialeksandrov/virtualenvs/zipline_backtest/lib/python3.6/site-packages/ipykernel_launcher.py:75: FutureWarning: pd.ewm_mean is deprecated for Series and will be removed in a future version, replace with \n",
      "\tSeries.ewm(span=37588,min_periods=0,adjust=True,ignore_na=False).mean()\n",
      "/Users/nialeksandrov/virtualenvs/zipline_backtest/lib/python3.6/site-packages/ipykernel_launcher.py:76: FutureWarning: pd.ewm_std is deprecated for Series and will be removed in a future version, replace with \n",
      "\tSeries.ewm(span=37588,min_periods=0,adjust=True,ignore_na=False).std(bias=False)\n"
     ]
    },
    {
     "name": "stdout",
     "output_type": "stream",
     "text": [
      "2018-09-06 00:59:00+00:00, 3\n",
      "2018-09-07 00:59:00+00:00, 4\n",
      "2018-09-08 00:59:00+00:00, 5\n",
      "2018-09-09 00:59:00+00:00, 6\n",
      "2018-09-10 00:59:00+00:00, 0\n",
      "2018-09-11 00:59:00+00:00, 1\n",
      "2018-09-12 00:59:00+00:00, 2\n",
      "2018-09-13 00:59:00+00:00, 3\n",
      "2018-09-14 00:59:00+00:00, 4\n",
      "2018-09-15 00:59:00+00:00, 5\n",
      "2018-09-16 00:59:00+00:00, 6\n",
      "2018-09-17 00:59:00+00:00, 0\n",
      "2018-09-18 00:59:00+00:00, 1\n",
      "2018-09-19 00:59:00+00:00, 2\n",
      "2018-09-20 00:59:00+00:00, 3\n",
      "2018-09-21 00:59:00+00:00, 4\n",
      "2018-09-22 00:59:00+00:00, 5\n",
      "2018-09-23 00:59:00+00:00, 6\n",
      "2018-09-24 00:59:00+00:00, 0\n",
      "2018-09-25 00:59:00+00:00, 1\n",
      "New allocation level 1\n",
      "Longing\n",
      "2018-09-26 00:59:00+00:00, 2\n",
      "2018-09-27 00:59:00+00:00, 3\n",
      "2018-09-28 00:59:00+00:00, 4\n",
      "2018-09-29 00:59:00+00:00, 5\n",
      "2018-09-30 00:59:00+00:00, 6\n",
      "2018-10-01 00:59:00+00:00, 0\n",
      "2018-10-02 00:59:00+00:00, 1\n",
      "2018-10-03 00:59:00+00:00, 2\n",
      "Closing Positions\n",
      "2018-04-03 03:21:00+00:00 2018-10-03 03:21:00+00:00\n",
      "New pair for trading BTC-USD and LTC-USD. Half-life: 13704.33286032321\n",
      "p-value: 0.0008341803701109869 || window size: 41112\n",
      "Coint weights: [ 1.        -0.5361648]\n",
      "[0.18308127 0.00338791 0.00083418]\n"
     ]
    },
    {
     "name": "stderr",
     "output_type": "stream",
     "text": [
      "/Users/nialeksandrov/virtualenvs/zipline_backtest/lib/python3.6/site-packages/ipykernel_launcher.py:75: FutureWarning: pd.ewm_mean is deprecated for Series and will be removed in a future version, replace with \n",
      "\tSeries.ewm(span=41112,min_periods=0,adjust=True,ignore_na=False).mean()\n",
      "/Users/nialeksandrov/virtualenvs/zipline_backtest/lib/python3.6/site-packages/ipykernel_launcher.py:76: FutureWarning: pd.ewm_std is deprecated for Series and will be removed in a future version, replace with \n",
      "\tSeries.ewm(span=41112,min_periods=0,adjust=True,ignore_na=False).std(bias=False)\n"
     ]
    },
    {
     "name": "stdout",
     "output_type": "stream",
     "text": [
      "2018-10-04 00:59:00+00:00, 3\n",
      "2018-10-05 00:59:00+00:00, 4\n",
      "2018-10-06 00:59:00+00:00, 5\n",
      "2018-10-07 00:59:00+00:00, 6\n",
      "2018-10-08 00:59:00+00:00, 0\n",
      "2018-10-09 00:59:00+00:00, 1\n",
      "2018-10-10 00:59:00+00:00, 2\n",
      "2018-10-11 00:59:00+00:00, 3\n",
      "New allocation level 1\n",
      "Longing\n",
      "Closing Positions\n",
      "2018-10-12 00:59:00+00:00, 4\n",
      "2018-10-13 00:59:00+00:00, 5\n",
      "2018-10-14 00:59:00+00:00, 6\n",
      "2018-10-15 00:59:00+00:00, 0\n",
      "New allocation level 1\n",
      "Shorting\n",
      "2018-10-16 00:59:00+00:00, 1\n",
      "2018-10-17 00:59:00+00:00, 2\n",
      "2018-10-18 00:59:00+00:00, 3\n",
      "2018-10-19 00:59:00+00:00, 4\n",
      "2018-10-20 00:59:00+00:00, 5\n",
      "2018-10-21 00:59:00+00:00, 6\n",
      "2018-10-22 00:59:00+00:00, 0\n",
      "2018-10-23 00:59:00+00:00, 1\n",
      "2018-10-24 00:59:00+00:00, 2\n",
      "2018-10-25 00:59:00+00:00, 3\n",
      "2018-10-26 00:59:00+00:00, 4\n",
      "2018-10-27 00:59:00+00:00, 5\n",
      "2018-10-28 00:59:00+00:00, 6\n",
      "2018-10-29 00:59:00+00:00, 0\n",
      "2018-10-30 00:59:00+00:00, 1\n",
      "2018-10-31 00:59:00+00:00, 2\n",
      "2018-11-01 00:59:00+00:00, 3\n",
      "2018-11-02 00:59:00+00:00, 4\n",
      "2018-11-03 00:59:00+00:00, 5\n",
      "2018-11-04 00:59:00+00:00, 6\n",
      "Closing Positions\n",
      "2018-05-05 08:53:00+00:00 2018-11-04 08:53:00+00:00\n",
      "New pair for trading BTC-USD and LTC-USD. Half-life: 15272.853945966712\n",
      "p-value: 0.001496270783249529 || window size: 45818\n",
      "Coint weights: [ 1.         -0.53334018]\n",
      "[0.20873479 0.00256735 0.00149627]\n"
     ]
    },
    {
     "name": "stderr",
     "output_type": "stream",
     "text": [
      "/Users/nialeksandrov/virtualenvs/zipline_backtest/lib/python3.6/site-packages/ipykernel_launcher.py:75: FutureWarning: pd.ewm_mean is deprecated for Series and will be removed in a future version, replace with \n",
      "\tSeries.ewm(span=45818,min_periods=0,adjust=True,ignore_na=False).mean()\n",
      "/Users/nialeksandrov/virtualenvs/zipline_backtest/lib/python3.6/site-packages/ipykernel_launcher.py:76: FutureWarning: pd.ewm_std is deprecated for Series and will be removed in a future version, replace with \n",
      "\tSeries.ewm(span=45818,min_periods=0,adjust=True,ignore_na=False).std(bias=False)\n"
     ]
    },
    {
     "name": "stdout",
     "output_type": "stream",
     "text": [
      "New allocation level 1\n",
      "Longing\n",
      "2018-11-05 00:59:00+00:00, 0\n",
      "Closing Positions\n",
      "2018-11-06 00:59:00+00:00, 1\n",
      "2018-11-07 00:59:00+00:00, 2\n",
      "2018-11-08 00:59:00+00:00, 3\n",
      "2018-11-09 00:59:00+00:00, 4\n",
      "2018-11-10 00:59:00+00:00, 5\n",
      "2018-11-11 00:59:00+00:00, 6\n",
      "2018-11-12 00:59:00+00:00, 0\n",
      "New allocation level 1\n",
      "Shorting\n",
      "2018-11-13 00:59:00+00:00, 1\n",
      "2018-11-14 00:59:00+00:00, 2\n",
      "Closing Positions\n",
      "New allocation level 1\n",
      "Longing\n",
      "2018-11-15 00:59:00+00:00, 3\n",
      "\n"
     ]
    }
   ],
   "source": [
    "start_date = datetime(2018, 3, 1, 0, 0, 0, 0, pytz.utc)\n",
    "end_date = datetime(2018, 11, 15, 0, 0, 0, 0, pytz.utc)\n",
    "total = (end_date - start_date).days\n",
    "portfolio_value = []\n",
    "\n",
    "with tqdm_notebook(total=total) as pbar:\n",
    "    def initialize(context):\n",
    "        zipline.api.set_benchmark(zipline.api.symbol(\"BTC-USD\"))\n",
    "        zipline.api.set_commission(zipline.api.commission.PerShare(cost=0, min_trade_cost=0))\n",
    "        \n",
    "        context.window_size = None\n",
    "        context.half_life_coef = 3\n",
    "        context.z_score_open_thresholds = [1]\n",
    "        context.z_score_close = 0\n",
    "        \n",
    "        context.coint_weights = None\n",
    "        context.assets = []\n",
    "        context.z_score_open = 0\n",
    "        context.is_closing_positions = False\n",
    "        context.is_in_betting = False\n",
    "        \n",
    "        context.coint_z_scores = None\n",
    "        zipline.api.schedule_function(daily_update, \n",
    "                                      date_rule=zipline.api.date_rules.every_day(),\n",
    "                                      time_rule=zipline.api.time_rules.market_open(hours=1))\n",
    "        context.is_look_for_new_pair = True\n",
    "        context.current_allocation_level = 0\n",
    "        \n",
    "    def daily_update(context, data):\n",
    "        print(f\"{zipline.api.get_datetime()}, {zipline.api.get_datetime().weekday()}\")\n",
    "        if zipline.api.get_datetime().day == 1:\n",
    "            context.is_look_for_new_pair = True\n",
    "        cur_portfolio_value = context.portfolio.portfolio_value\n",
    "        #print(f\"Current Portfolio Value: {cur_portfolio_value}\")\n",
    "        pbar.update(1)\n",
    "        \n",
    "    def choose_pair_for_trading(context, data):\n",
    "        current_datetime = zipline.api.get_datetime()\n",
    "        month_ago = current_datetime - pd.Timedelta(days=183)\n",
    "        print(month_ago, current_datetime)\n",
    "        selected_data = coint_research_data.loc[:current_datetime]\n",
    "        \n",
    "        pairs_p_values = np.empty(shape=len(all_possible_pairs))\n",
    "        for pair_index, (currency1, currency2) in enumerate(all_possible_pairs):\n",
    "            pair1, pair2 = selected_data[currency1], selected_data[currency2]\n",
    "            coint_results = coint(pair1, pair2, maxlag=1)\n",
    "            pairs_p_values[pair_index] = coint_results[1]\n",
    "        trading_pair1, trading_pair2 = all_possible_pairs[np.argmin(pairs_p_values)]\n",
    "        context.assets = [zipline.api.symbol(trading_pair1), zipline.api.symbol(trading_pair2)]\n",
    "        \n",
    "        selected_data = coint_research_data.loc[:current_datetime]\n",
    "        model = OLS(selected_data[trading_pair1], sm.add_constant(selected_data[trading_pair2]))\n",
    "        ols_results = model.fit()\n",
    "        context.coint_weights = np.array([1, -ols_results.params[trading_pair2]])\n",
    "        \n",
    "        coint_series = selected_data[trading_pair1] - selected_data[trading_pair2] * ols_results.params[trading_pair2] +\\\n",
    "                        ols_results.params[\"const\"]\n",
    "        \n",
    "        dependent_var = coint_series.diff()[1:]\n",
    "        independent_var = coint_series.shift(1)[1:]\n",
    "        independent_var.name = \"val_prev\"\n",
    "        model = OLS(dependent_var, sm.add_constant(independent_var))\n",
    "        ols_results = model.fit()\n",
    "        mean_reverse_half_life = -np.log(2) / ols_results.params[\"val_prev\"]\n",
    "        context.window_size = int(mean_reverse_half_life * context.half_life_coef)\n",
    "        print(f\"New pair for trading {trading_pair1} and {trading_pair2}. Half-life: {mean_reverse_half_life}\")\n",
    "        print(f\"p-value: {pairs_p_values.min()} || window size: {context.window_size}\")\n",
    "        print(f\"Coint weights: {context.coint_weights}\")\n",
    "        print(pairs_p_values)\n",
    "        context.is_look_for_new_pair = False\n",
    "        \n",
    "        context.coint_z_scores = coint_research_data[[trading_pair1, trading_pair2]]\n",
    "        context.coint_z_scores *= context.coint_weights\n",
    "        context.coint_z_scores = context.coint_z_scores.sum(axis=1)\n",
    "        means = pd.ewma(context.coint_z_scores, span=context.window_size)\n",
    "        stds = pd.ewmstd(context.coint_z_scores, span=context.window_size)\n",
    "        context.coint_z_scores = (context.coint_z_scores - means) / stds\n",
    "        \n",
    "            \n",
    "    def order_assets(context, data, is_long, z_score):\n",
    "        portfolio_weights = data.history(context.assets, \"price\", 1, \"1m\").values[0]\n",
    "        portfolio_weights *= context.coint_weights\n",
    "        portfolio_weights /= np.absolute(portfolio_weights).sum()\n",
    "        if not is_long:\n",
    "            portfolio_weights *= -1\n",
    "        \n",
    "        new_level = 0\n",
    "        for level_index, z_score_level in enumerate(context.z_score_open_thresholds):\n",
    "            if abs(z_score) >= z_score_level:\n",
    "                new_level = level_index + 1\n",
    "            else:\n",
    "                break\n",
    "                \n",
    "        if new_level > context.current_allocation_level:\n",
    "            print(f\"New allocation level {new_level}\")\n",
    "            if z_score > 0:\n",
    "                print(\"Shorting\")\n",
    "            else:\n",
    "                print(\"Longing\")\n",
    "            portfolio_weights *= (new_level / len(context.z_score_open_thresholds))\n",
    "            for asset_index, asset in enumerate(context.assets):\n",
    "                #print(f\"Order {asset} {portfolio_weights[asset_index]}\")\n",
    "                zipline.api.order_target_percent(asset, portfolio_weights[asset_index])\n",
    "\n",
    "            context.z_score_open = z_score\n",
    "            context.is_in_betting = True\n",
    "            context.current_allocation_level = new_level\n",
    "            context.max_portfolio_value = context.portfolio.portfolio_value\n",
    "        \n",
    "    def close_positions(context, data):\n",
    "        for order in zipline.api.get_open_orders():\n",
    "            zipline.api.cancel_order(order)\n",
    "            \n",
    "        for asset in context.portfolio.positions.keys():\n",
    "            zipline.api.order_target_percent(asset, 0)\n",
    "        context.position = 0\n",
    "        context.z_score_open = 0\n",
    "        context.is_closing_positions = True\n",
    "        context.current_allocation_level = 0\n",
    "    \n",
    "    def handle_data(context, data):\n",
    "        positions_amount = len(context.portfolio.positions)\n",
    "        open_orders_amount = len(zipline.api.get_open_orders()) \n",
    "        if context.is_look_for_new_pair and positions_amount == 0 and open_orders_amount == 0:\n",
    "            choose_pair_for_trading(context, data)\n",
    "        \n",
    "        cur_portfolio_value = context.portfolio.portfolio_value\n",
    "        portfolio_value.append(cur_portfolio_value)\n",
    "        coint_series = data.history(context.assets, \"price\", 1, \"1m\")\n",
    "        coint_series *= context.coint_weights\n",
    "        coint_series = coint_series.sum(axis=1)\n",
    "        \n",
    "        last_value = coint_series[-1]\n",
    "        if not np.isnan(last_value):\n",
    "            z_score = context.coint_z_scores.loc[zipline.api.get_datetime()]\n",
    "            \n",
    "            positions_value = context.portfolio.positions_value\n",
    "            #print(z_score, cur_portfolio_value, beta_change)\n",
    "            \n",
    "            if positions_amount == 0:\n",
    "                context.is_closing_positions = False \n",
    "\n",
    "            if context.is_closing_positions and positions_amount > 0 and open_orders_amount == 0:\n",
    "                close_positions(context, data)                \n",
    "            elif not context.is_closing_positions:\n",
    "                if z_score > context.z_score_open_thresholds[0] and context.z_score_open >= 0 and open_orders_amount == 0:\n",
    "                    order_assets(context, data, False, z_score)\n",
    "                elif z_score < -context.z_score_open_thresholds[0] and context.z_score_open <= 0 and open_orders_amount == 0:\n",
    "                    order_assets(context, data, True, z_score) \n",
    "                elif (context.z_score_open > 0 and z_score <= context.z_score_close) or\\\n",
    "                     (context.z_score_open < 0 and z_score >= -context.z_score_close):\n",
    "                    print(\"Closing Positions\")\n",
    "                    close_positions(context, data)\n",
    "\n",
    "    perfomance = zipline.run_algorithm(start=start_date,\n",
    "                                   end=end_date,\n",
    "                                   initialize=initialize,\n",
    "                                   trading_calendar=AlwaysOpenCalendar(),\n",
    "                                   handle_data=handle_data,\n",
    "                                   capital_base=1000,\n",
    "                                   data_frequency='minute',\n",
    "                                   data=backtest_panel)"
   ]
  },
  {
   "cell_type": "code",
   "execution_count": 37,
   "metadata": {},
   "outputs": [
    {
     "name": "stdout",
     "output_type": "stream",
     "text": [
      "Algorithm Period Return: 0.022061301349947327\n",
      "Aglorithm Period Volatility: 0.1294112938342242\n",
      "Benchmark Period Return: -0.3747938294363049\n",
      "Benchmark Period Volatility: 0.5520600829219817\n"
     ]
    },
    {
     "data": {
      "image/png": "[encoded data removed]",
      "text/plain": [
       "<Figure size 1080x504 with 1 Axes>"
      ]
     },
     "metadata": {
      "needs_background": "light"
     },
     "output_type": "display_data"
    }
   ],
   "source": [
    "plt.figure(figsize=(15, 7))\n",
    "plt.title(\"Daily Returns\")\n",
    "perfomance.algorithm_period_return[:-30].plot(label=\"Strategy\")\n",
    "perfomance.benchmark_period_return[:-30].plot(label=\"Benchmark\")\n",
    "\n",
    "print(\"Algorithm Period Return:\", perfomance.algorithm_period_return[-30])\n",
    "print(\"Aglorithm Period Volatility:\", perfomance.algo_volatility[-30])\n",
    "print(\"Benchmark Period Return:\", perfomance.benchmark_period_return[-30])\n",
    "print(\"Benchmark Period Volatility:\", perfomance.benchmark_volatility[-30])\n",
    "plt.legend();"
   ]
  },
  {
   "cell_type": "code",
   "execution_count": 38,
   "metadata": {},
   "outputs": [
    {
     "name": "stdout",
     "output_type": "stream",
     "text": [
      "Alpha: 0.011566552673341049\n",
      "Beta: -0.05726793460597798\n",
      "Max Drawdown: -0.20958522076923342\n",
      "Sortino: 0.3611967861845048\n"
     ]
    }
   ],
   "source": [
    "print(\"Alpha:\", perfomance.alpha[-30])\n",
    "print(\"Beta:\", perfomance.beta[-30])\n",
    "print(\"Max Drawdown:\", perfomance.max_drawdown[-30])\n",
    "print(\"Sortino:\", perfomance.sortino[-30])"
   ]
  },
  {
   "cell_type": "code",
   "execution_count": 30,
   "metadata": {},
   "outputs": [
    {
     "data": {
      "text/plain": [
       "[<matplotlib.lines.Line2D at 0x131066080>]"
      ]
     },
     "execution_count": 30,
     "metadata": {},
     "output_type": "execute_result"
    },
    {
     "data": {
      "image/png": "[encoded data removed]",
      "text/plain": [
       "<Figure size 1080x504 with 1 Axes>"
      ]
     },
     "metadata": {
      "needs_background": "light"
     },
     "output_type": "display_data"
    }
   ],
   "source": [
    "plt.figure(figsize=(15, 7))\n",
    "plt.title(\"Portfolio value by minute\")\n",
    "plt.plot(portfolio_value)"
   ]
  },
  {
   "cell_type": "code",
   "execution_count": 39,
   "metadata": {},
   "outputs": [
    {
     "name": "stdout",
     "output_type": "stream",
     "text": [
      "Sharpe Ratio: 0.2279960813687808\n"
     ]
    },
    {
     "data": {
      "image/png": "[encoded data removed]",
      "text/plain": [
       "<Figure size 1080x504 with 1 Axes>"
      ]
     },
     "metadata": {
      "needs_background": "light"
     },
     "output_type": "display_data"
    }
   ],
   "source": [
    "plt.figure(figsize=(15, 7))\n",
    "plt.title(\"Sharpe Ratio\")\n",
    "plt.plot(perfomance.sharpe)\n",
    "print(\"Sharpe Ratio:\", perfomance.sharpe[-1])"
   ]
  },
  {
   "cell_type": "code",
   "execution_count": 76,
   "metadata": {},
   "outputs": [
    {
     "data": {
      "text/plain": [
       "1.52"
      ]
     },
     "execution_count": 76,
     "metadata": {},
     "output_type": "execute_result"
    }
   ],
   "source": [
    "1.52"
   ]
  },
  {
   "cell_type": "code",
   "execution_count": 22,
   "metadata": {},
   "outputs": [
    {
     "data": {
      "text/plain": [
       "-0.044896901350185994"
      ]
     },
     "execution_count": 22,
     "metadata": {},
     "output_type": "execute_result"
    }
   ],
   "source": [
    "perfomance.algorithm_period_return.corr(perfomance.benchmark_period_return)"
   ]
  }
 ],
 "metadata": {
  "kernelspec": {
   "display_name": "zipline_backtest",
   "language": "python",
   "name": "zipline_backtest"
  },
  "language_info": {
   "codemirror_mode": {
    "name": "ipython",
    "version": 3
   },
   "file_extension": ".py",
   "mimetype": "text/x-python",
   "name": "python",
   "nbconvert_exporter": "python",
   "pygments_lexer": "ipython3",
   "version": "3.6.7"
  }
 },
 "nbformat": 4,
 "nbformat_minor": 2
}
